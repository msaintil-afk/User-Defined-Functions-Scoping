{
 "cells": [
  {
   "cell_type": "markdown",
   "metadata": {},
   "source": [
    "# User-Defined Functions & Scoping"
   ]
  },
  {
   "cell_type": "markdown",
   "metadata": {},
   "source": [
    "## Tasks Today:\n",
    "\n",
    "\n",
    "1) Functions <br>\n",
    " &nbsp;&nbsp;&nbsp;&nbsp; a) User-Defined vs. Built-In Functions <br>\n",
    " &nbsp;&nbsp;&nbsp;&nbsp; b) Accepting Parameters <br>\n",
    " &nbsp;&nbsp;&nbsp;&nbsp; c) Default Parameters <br>\n",
    " &nbsp;&nbsp;&nbsp;&nbsp; d) Making an Argument Optional <br>\n",
    " &nbsp;&nbsp;&nbsp;&nbsp; e) Keyword Arguments <br>\n",
    " &nbsp;&nbsp;&nbsp;&nbsp; f) Returning Values <br>\n",
    " &nbsp;&nbsp;&nbsp;&nbsp; g) *args <br>\n",
    " &nbsp;&nbsp;&nbsp;&nbsp; h) Docstring <br>\n",
    " &nbsp;&nbsp;&nbsp;&nbsp; i) Using a User Function in a Loop <br>\n",
    "3) Creating more User-Defined functions <br>\n",
    "2) Scope <br>\n"
   ]
  },
  {
   "cell_type": "markdown",
   "metadata": {},
   "source": [
    "\n",
    "## Functions"
   ]
  },
  {
   "cell_type": "markdown",
   "metadata": {},
   "source": [
    "##### User-Defined vs. Built-In Functions"
   ]
  },
  {
   "cell_type": "code",
   "execution_count": 27,
   "metadata": {},
   "outputs": [
    {
     "name": "stdout",
     "output_type": "stream",
     "text": [
      "hello\n",
      "<function sayHello at 0x7f76c4769550>\n",
      "Hello World\n"
     ]
    }
   ],
   "source": [
    "# Built-In Function\n",
    "print(\"hello\")\n",
    "\n",
    "# User-Defined Function\n",
    "def sayHello():\n",
    "    return \"Hello World\"\n",
    "\n",
    "# Show the function call in memory\n",
    "print(sayHello)\n",
    "\n",
    "print(sayHello())"
   ]
  },
  {
   "cell_type": "markdown",
   "metadata": {},
   "source": [
    "##### Accepting Parameters"
   ]
  },
  {
   "cell_type": "code",
   "execution_count": 28,
   "metadata": {
    "scrolled": true
   },
   "outputs": [
    {
     "name": "stdout",
     "output_type": "stream",
     "text": [
      "Hello my last name is McKinney and my first name is Terrell\n",
      "Hello my last name is McKinney and my first name is Terrell\n",
      "Hello my last name is McKinney and my first name is Terrell\n"
     ]
    }
   ],
   "source": [
    "# Order Matters\n",
    "# a variable can be any type of object\n",
    "first = \"Terrell\"\n",
    "last = \"McKinney\"\n",
    "\n",
    "def print_full_name(first_name,last_name):\n",
    "    return f\"Hello my last name is {last} and my first name is {first}\"\n",
    "\n",
    "print(print_full_name(\"Terrell\",\"McKinney\"))\n",
    "print(print_full_name(\"McKinney\",\"Terrell\"))\n",
    "\n",
    "print(print_full_name(\"Ryan\",\"Rhoades\"))"
   ]
  },
  {
   "cell_type": "markdown",
   "metadata": {},
   "source": [
    "##### Default Parameters"
   ]
  },
  {
   "cell_type": "code",
   "execution_count": 29,
   "metadata": {},
   "outputs": [
    {
     "name": "stdout",
     "output_type": "stream",
     "text": [
      "The name is Bond... James Bond.\n",
      "The name is Brown... James Brown.\n"
     ]
    },
    {
     "ename": "NameError",
     "evalue": "name 'print_agent_again' is not defined",
     "output_type": "error",
     "traceback": [
      "\u001b[0;31m---------------------------------------------------------------------------\u001b[0m",
      "\u001b[0;31mNameError\u001b[0m                                 Traceback (most recent call last)",
      "\u001b[1;32m/home/marcus/Documents/Coding Temple/week2/day4/Thursday_Lesson_Inclass-Updated-Lecture2022.ipynb Cell 9'\u001b[0m in \u001b[0;36m<cell line: 13>\u001b[0;34m()\u001b[0m\n\u001b[1;32m      <a href='vscode-notebook-cell:/home/marcus/Documents/Coding%20Temple/week2/day4/Thursday_Lesson_Inclass-Updated-Lecture2022.ipynb#ch0000008?line=6'>7</a>\u001b[0m \u001b[39mprint\u001b[39m(agent_name(\u001b[39m\"\u001b[39m\u001b[39mJames\u001b[39m\u001b[39m\"\u001b[39m, last_name \u001b[39m=\u001b[39m \u001b[39m\"\u001b[39m\u001b[39mBrown\u001b[39m\u001b[39m\"\u001b[39m))\n\u001b[1;32m      <a href='vscode-notebook-cell:/home/marcus/Documents/Coding%20Temple/week2/day4/Thursday_Lesson_Inclass-Updated-Lecture2022.ipynb#ch0000008?line=8'>9</a>\u001b[0m \u001b[39m# #Dont do this 👇🏾\u001b[39;00m\n\u001b[1;32m     <a href='vscode-notebook-cell:/home/marcus/Documents/Coding%20Temple/week2/day4/Thursday_Lesson_Inclass-Updated-Lecture2022.ipynb#ch0000008?line=9'>10</a>\u001b[0m \u001b[39m# def print_agent_again(last_name = \"Bond\", first_name):\u001b[39;00m\n\u001b[1;32m     <a href='vscode-notebook-cell:/home/marcus/Documents/Coding%20Temple/week2/day4/Thursday_Lesson_Inclass-Updated-Lecture2022.ipynb#ch0000008?line=10'>11</a>\u001b[0m \u001b[39m#     return f\"The name is {last_name}... {first_name} {last_name}.\"\u001b[39;00m\n\u001b[0;32m---> <a href='vscode-notebook-cell:/home/marcus/Documents/Coding%20Temple/week2/day4/Thursday_Lesson_Inclass-Updated-Lecture2022.ipynb#ch0000008?line=12'>13</a>\u001b[0m \u001b[39mprint\u001b[39m(print_agent_again(\u001b[39m\"\u001b[39m\u001b[39mJimmy\u001b[39m\u001b[39m\"\u001b[39m))\n",
      "\u001b[0;31mNameError\u001b[0m: name 'print_agent_again' is not defined"
     ]
    }
   ],
   "source": [
    "# Default Parameters must come after non-default parameters at all times\n",
    "\n",
    "def agent_name(first_name, last_name = \"Bond\"):\n",
    "    return f\"The name is {last_name}... {first_name} {last_name}.\"\n",
    "\n",
    "print(agent_name(\"James\"))\n",
    "print(agent_name(\"James\", last_name = \"Brown\"))\n",
    "\n",
    "# #Dont do this 👇🏾\n",
    "# def print_agent_again(last_name = \"Bond\", first_name):\n",
    "#     return f\"The name is {last_name}... {first_name} {last_name}.\"\n",
    "\n",
    "print(print_agent_again(\"Jimmy\"))"
   ]
  },
  {
   "cell_type": "code",
   "execution_count": null,
   "metadata": {},
   "outputs": [
    {
     "name": "stdout",
     "output_type": "stream",
     "text": [
      "Your birthday is the 12 day of december and you were born in 2022.\n"
     ]
    }
   ],
   "source": [
    "def jan_birthday(day,year,month = 'January'):\n",
    "    return f\"Your birthday is the {day} day of {month} and you were born in {year}.\"\n",
    "print(jan_birthday(12,2022,\"december\"))"
   ]
  },
  {
   "cell_type": "markdown",
   "metadata": {},
   "source": [
    "##### Making an Argument Optional"
   ]
  },
  {
   "cell_type": "code",
   "execution_count": null,
   "metadata": {},
   "outputs": [
    {
     "name": "stdout",
     "output_type": "stream",
     "text": [
      "hi Mr. Ed.\n",
      "Hello Mrs. Runner Ed. \n"
     ]
    }
   ],
   "source": [
    "def print_horse_name(first, middle=\"\", last = 'Ed'):\n",
    "    if middle:\n",
    "        return f\"Hello {first} {middle} {last}. \"\n",
    "    else:\n",
    "        return f\"hi {first} {last}.\"\n",
    "\n",
    "print(print_horse_name(\"Mr.\"))\n",
    "print(print_horse_name(\"Mrs.\",\"Runner\"))"
   ]
  },
  {
   "cell_type": "markdown",
   "metadata": {},
   "source": [
    "##### Keyword Arguments"
   ]
  },
  {
   "cell_type": "code",
   "execution_count": null,
   "metadata": {},
   "outputs": [
    {
     "name": "stdout",
     "output_type": "stream",
     "text": [
      "Bruce's power is Money.\n"
     ]
    }
   ],
   "source": [
    "def print_hero(name, power=\"flying\"):\n",
    "    return f\"{name}'s power is {power}.\"\n",
    "\n",
    "print(print_hero(power = 'Money', name = \"Bruce\"))"
   ]
  },
  {
   "cell_type": "code",
   "execution_count": null,
   "metadata": {},
   "outputs": [],
   "source": [
    "# create a function that takes at 1 least 1 posiontal arg 1 optional arg and 1 default\n"
   ]
  },
  {
   "cell_type": "code",
   "execution_count": null,
   "metadata": {},
   "outputs": [],
   "source": []
  },
  {
   "cell_type": "code",
   "execution_count": null,
   "metadata": {},
   "outputs": [
    {
     "name": "stdout",
     "output_type": "stream",
     "text": [
      "dandilion tea is a nice herbal drink. Make it healthy by using alkaline water. Spice it up by adding whipped cream\n"
     ]
    }
   ],
   "source": [
    "# Create a function (or more than one) that accepts positional, default, and optional arguments.\n",
    "\n",
    "def make_tea(tea=\"dandilion\",creamer=\"\",water=\"alkaline\"):\n",
    "    return f\"{tea} tea is a nice herbal drink. Make it healthy by using {water} water. Spice it up by adding {creamer}\"\n",
    "print(make_tea(creamer=\"whipped cream\")) "
   ]
  },
  {
   "cell_type": "markdown",
   "metadata": {},
   "source": [
    "# Creating a start, stop, step function"
   ]
  },
  {
   "cell_type": "code",
   "execution_count": null,
   "metadata": {},
   "outputs": [],
   "source": [
    "def my_range(stop, start = 0, step = 1):\n",
    "    for i in range(start,stop,step):\n",
    "        print(i)\n",
    "        \n",
    "my_range(3,3,2)"
   ]
  },
  {
   "cell_type": "markdown",
   "metadata": {},
   "source": [
    "##### Returning Values"
   ]
  },
  {
   "cell_type": "code",
   "execution_count": null,
   "metadata": {},
   "outputs": [
    {
     "name": "stdout",
     "output_type": "stream",
     "text": [
      "112\n"
     ]
    }
   ],
   "source": [
    "def add_nums(num1, num2):\n",
    "    return num1 + num2\n",
    "total = add_nums(35,77)\n",
    "\n",
    "print(total)"
   ]
  },
  {
   "cell_type": "markdown",
   "metadata": {},
   "source": [
    "##### *args / **kwargs (keyword arguments)"
   ]
  },
  {
   "cell_type": "code",
   "execution_count": null,
   "metadata": {},
   "outputs": [
    {
     "name": "stdout",
     "output_type": "stream",
     "text": [
      "1\n",
      "(2, 10, 'megazord')\n",
      "{'names': ['terrell', 'ryan'], 'subject': 'Python'}\n"
     ]
    }
   ],
   "source": [
    "# *args stands for arguments (**kwargs are keyword arguments) & takes any number of arguments as parameters\n",
    "# must be last if other parameters are present\n",
    "\n",
    "def print_args(num1, *variable, **kwargs):\n",
    "    print(num1)\n",
    "    print(variable)\n",
    "    print(kwargs)\n",
    "\n",
    "print_args(1,2,10,\"megazord\",names=[\"terrell\",\"ryan\"], subject = 'Python')\n",
    "    "
   ]
  },
  {
   "cell_type": "code",
   "execution_count": null,
   "metadata": {},
   "outputs": [
    {
     "name": "stdout",
     "output_type": "stream",
     "text": [
      "anime\n",
      "name ['marcus', 'saintil']\n",
      "subject python\n",
      "101\n"
     ]
    }
   ],
   "source": [
    "def print_args(num1, *variable, **kwargs):\n",
    "    for variables in variable:\n",
    "        print_args(variables)\n",
    "    for key, value in kwargs.items():\n",
    "        print(key, value)\n",
    "    print(num1)\n",
    "print_args(101, \"anime\", name=[\"marcus\",\"saintil\"], subject = \"python\")"
   ]
  },
  {
   "cell_type": "code",
   "execution_count": null,
   "metadata": {},
   "outputs": [
    {
     "name": "stdout",
     "output_type": "stream",
     "text": [
      "10\n",
      "megazord\n",
      "names ['terrell', 'ryan']\n",
      "subject Python\n",
      "2\n"
     ]
    }
   ],
   "source": [
    "# Write a function that accepts args and kwargs and prints out each argument and keyword argument on its own line. \n",
    "\n",
    "def print_args(num1, *args, **kwargs):\n",
    "    for arg in args:\n",
    "        print(arg)\n",
    "\n",
    "    for key, value in kwargs.items():\n",
    "        print(key,value)\n",
    "    print(num1)\n",
    "print_args(2,10,\"megazord\",names=[\"terrell\",\"ryan\"], subject = 'Python')\n",
    "\n"
   ]
  },
  {
   "cell_type": "markdown",
   "metadata": {},
   "source": [
    "##### Docstring"
   ]
  },
  {
   "cell_type": "code",
   "execution_count": null,
   "metadata": {},
   "outputs": [
    {
     "name": "stdout",
     "output_type": "stream",
     "text": [
      "marcus\n",
      "saintil\n"
     ]
    }
   ],
   "source": [
    "def print_names(list_1):\n",
    "    \"\"\"\n",
    "        print_names(list_1)\n",
    "        Function requires a list to be passed as a parameter\n",
    "        and will print the contents of the list. Expecting\n",
    "        a list of names(strings) to be passed.\n",
    "    \"\"\"\n",
    "    for name in list_1:\n",
    "        print(name)\n",
    "\n",
    "def print_names2(list_2):\n",
    "    \"\"\"\n",
    "        print_names(list_1)\n",
    "        Function requires a list to be passed as a parameter\n",
    "        and will print the contents of the list. Expecting\n",
    "        a list of names(strings) to be passed.\n",
    "    \"\"\"\n",
    "    for comments in list2:\n",
    "        print(comments)\n",
    "#square brackets for list\n",
    "print_names([\"marcus\", \"saintil\"])\n"
   ]
  },
  {
   "cell_type": "code",
   "execution_count": null,
   "metadata": {},
   "outputs": [
    {
     "name": "stdout",
     "output_type": "stream",
     "text": [
      "Sylvester\n",
      "Tweety\n"
     ]
    }
   ],
   "source": [
    "print_names([\"Sylvester\",\"Tweety\"])"
   ]
  },
  {
   "cell_type": "markdown",
   "metadata": {},
   "source": [
    "##### Using a User Function in a Loop"
   ]
  },
  {
   "cell_type": "code",
   "execution_count": null,
   "metadata": {},
   "outputs": [
    {
     "name": "stdout",
     "output_type": "stream",
     "text": [
      "What do you want to do?Eat\n",
      "Your answer is Eat\n",
      "Ready to quit?no\n",
      "What do you want to do?sleep\n",
      "Your answer is sleep\n",
      "Ready to quit?no\n",
      "What do you want to do?code\n",
      "Your answer is code\n",
      "Ready to quit?yes\n"
     ]
    }
   ],
   "source": [
    "def printInput(answer):\n",
    "    print(f\"Your answer is {answer}\")\n",
    "    \n",
    "while True:\n",
    "    ask = input(\"What do you want to do?\")\n",
    "    \n",
    "    printInput(ask)\n",
    "    \n",
    "    response = input(\"Ready to quit?\")\n",
    "    if response.lower() == \"yes\":\n",
    "        break"
   ]
  },
  {
   "cell_type": "markdown",
   "metadata": {},
   "source": [
    "## Function Exercises <br>\n",
    "### Exercise 1\n",
    "<p>Write a function that loops through a list of first_names and a list of last_names, combines the two and return a list of full_names</p>"
   ]
  },
  {
   "cell_type": "code",
   "execution_count": 32,
   "metadata": {},
   "outputs": [
    {
     "name": "stdout",
     "output_type": "stream",
     "text": [
      "index: 0. item: king.\n",
      "index: 1. item: Smith.\n",
      "index: 2. item: Williams.\n",
      "index: 3. item: Bell.\n"
     ]
    }
   ],
   "source": [
    "first_name = ['burger', 'Evan', 'Jordan', 'Max']\n",
    "last_name = ['king', 'Smith', 'Williams', 'Bell']\n",
    "\n",
    "# Output: ['John Smith', 'Evan Smith', 'Jordan Williams', 'Max Bell']\n",
    "\n",
    "def get_full_name(first, last):\n",
    "    \"\"\"Combine first and last to make full name\"\"\"\n",
    "    full_name = f\"{first} {last}\"\n",
    "    return full_name.title()\n",
    "\n",
    "def full_names(firsts,lasts):\n",
    "    fulls = []\n",
    "    \n",
    "    for i in range(len(firsts)):\n",
    "        whole_name = get_full_name(firsts[i],lasts[i])\n",
    "        fulls.append(whole_name)\n",
    "    return fulls\n",
    "\n",
    "full_names(first_name,last_name)\n",
    "\n",
    "for index, item in enumerate(last_name):\n",
    "    print(f'index: {index}. item: {item}.')"
   ]
  },
  {
   "cell_type": "code",
   "execution_count": 48,
   "metadata": {},
   "outputs": [
    {
     "data": {
      "text/plain": [
       "['John Smith', 'Evan Smith', 'Jordan Williams', 'Max Bell']"
      ]
     },
     "execution_count": 48,
     "metadata": {},
     "output_type": "execute_result"
    }
   ],
   "source": [
    "# Another way to answer the problem\n",
    "def full_name_getter(firsts,lasts):\n",
    "    full_names = []\n",
    "    for i in range(len(firsts)):\n",
    "        full_names.append(firsts[i] + \" \" + lasts[i])\n",
    "    return full_names\n",
    "\n",
    "full_name_getter(first_name,last_name)"
   ]
  },
  {
   "cell_type": "code",
   "execution_count": 49,
   "metadata": {},
   "outputs": [
    {
     "data": {
      "text/plain": [
       "['John Smith', 'Evan Smith', 'Jordan Williams', 'Max Bell']"
      ]
     },
     "execution_count": 49,
     "metadata": {},
     "output_type": "execute_result"
    }
   ],
   "source": [
    "def full_getter(firsts,lasts):\n",
    "    return [firsts[i]+\" \"+lasts[i] for i in range(len(firsts))]\n",
    "full_getter(first_name,last_name)"
   ]
  },
  {
   "cell_type": "markdown",
   "metadata": {},
   "source": [
    "### Exercise 2\n",
    "Create a function that alters all values in the given list by subtracting 5 and then doubling them."
   ]
  },
  {
   "cell_type": "code",
   "execution_count": 50,
   "metadata": {},
   "outputs": [
    {
     "name": "stdout",
     "output_type": "stream",
     "text": [
      "[0, 10, 20, 30, -4]\n"
     ]
    }
   ],
   "source": [
    "input_list = [5,10,15,20,3]\n",
    "# output = [0,10,20,30,-4]\n",
    "\n",
    "def lst(num):\n",
    "    funk = [2 * (i - 5) for i in num]\n",
    "    # funk = []\n",
    "    # for i in num:\n",
    "    #     print(f'i: {i}')\n",
    "    #     print(f'i - 5: {i-5}')\n",
    "    #     funk.append(2 * (i - 5))\n",
    "    return funk\n",
    "\n",
    "\n",
    "print(lst(input_list))"
   ]
  },
  {
   "cell_type": "markdown",
   "metadata": {},
   "source": [
    "### Exercise 2 BONUS \n",
    "Create a function that takes both a given list and another func as a parameter. The function should return a list of items each altered by the func. As an example, your function can subtract 5 and double each number."
   ]
  },
  {
   "cell_type": "code",
   "execution_count": 26,
   "metadata": {},
   "outputs": [
    {
     "data": {
      "text/plain": [
       "[0, 10, 20, 30, -4]"
      ]
     },
     "execution_count": 26,
     "metadata": {},
     "output_type": "execute_result"
    }
   ],
   "source": [
    "input_list = [5,10,15,20,3]\n",
    "# output = [0,10,20,30,-4]\n",
    "\n",
    "def sub_dub(num):\n",
    "    \"\"\"\n",
    "        subtracts 5 from a number and doubles it.\n",
    "    \"\"\"\n",
    "    return 2 * (num - 5)\n",
    "\n",
    "def list_changer(func,alist):\n",
    "    new_list = []\n",
    "    \n",
    "    for value in alist:\n",
    "        new_value = func(value)\n",
    "        new_list.append(new_value)\n",
    "    return new_list\n",
    "    \n",
    "list_changer(sub_dub,input_list)\n"
   ]
  },
  {
   "cell_type": "markdown",
   "metadata": {},
   "source": [
    "### Exercise 3\n",
    "Create a function that takes in a list of strings and filters out the strings that have less than 6 characters. "
   ]
  },
  {
   "cell_type": "code",
   "execution_count": 58,
   "metadata": {},
   "outputs": [
    {
     "data": {
      "text/plain": [
       "['Sheldon', 'Leonard', 'Howard', 'Stuart']"
      ]
     },
     "execution_count": 58,
     "metadata": {},
     "output_type": "execute_result"
    }
   ],
   "source": [
    "string_list = ['Sheldon','Penny','Leonard','Howard','Raj','Amy','Stuart']\n",
    "# output = ['Sheldon', 'Leonard','Howard','Stuart']\n",
    "\n",
    "def six_char(names):\n",
    "    # List comprehension format:\n",
    "    #        1) item to return 2) the loop    3) conditions\n",
    "    new_names_list = [name for name in names if len(name)>5]\n",
    "#     for name in names:\n",
    "#         if len(name) > 5:\n",
    "#             new_names_list.append(name)\n",
    "    return new_names_list\n",
    "\n",
    "six_char(string_list)\n",
    "\n",
    "\n"
   ]
  },
  {
   "cell_type": "markdown",
   "metadata": {},
   "source": [
    "### Exercise 4\n",
    "Create a function that accepts a list as a parameter and returns a dictionary containing the list items as it's keys, and the number of times they appear in the list as the values"
   ]
  },
  {
   "cell_type": "code",
   "execution_count": 33,
   "metadata": {},
   "outputs": [
    {
     "name": "stdout",
     "output_type": "stream",
     "text": [
      "value Harry is not in counter_dict: {}\n",
      "value Hermione is not in counter_dict: {'Harry': 1}\n",
      "value Harry is in counter_dict: {'Harry': 1, 'Hermione': 1}\n",
      "value Ron is not in counter_dict: {'Harry': 2, 'Hermione': 1}\n",
      "value Dobby is not in counter_dict: {'Harry': 2, 'Hermione': 1, 'Ron': 1}\n",
      "value Draco is not in counter_dict: {'Harry': 2, 'Hermione': 1, 'Ron': 1, 'Dobby': 1}\n",
      "value Luna is not in counter_dict: {'Harry': 2, 'Hermione': 1, 'Ron': 1, 'Dobby': 1, 'Draco': 1}\n",
      "value Harry is in counter_dict: {'Harry': 2, 'Hermione': 1, 'Ron': 1, 'Dobby': 1, 'Draco': 1, 'Luna': 1}\n",
      "value Hermione is in counter_dict: {'Harry': 3, 'Hermione': 1, 'Ron': 1, 'Dobby': 1, 'Draco': 1, 'Luna': 1}\n",
      "value Ron is in counter_dict: {'Harry': 3, 'Hermione': 2, 'Ron': 1, 'Dobby': 1, 'Draco': 1, 'Luna': 1}\n",
      "value Ron is in counter_dict: {'Harry': 3, 'Hermione': 2, 'Ron': 2, 'Dobby': 1, 'Draco': 1, 'Luna': 1}\n",
      "value Ron is in counter_dict: {'Harry': 3, 'Hermione': 2, 'Ron': 3, 'Dobby': 1, 'Draco': 1, 'Luna': 1}\n"
     ]
    },
    {
     "data": {
      "text/plain": [
       "{'Harry': 3, 'Hermione': 2, 'Ron': 4, 'Dobby': 1, 'Draco': 1, 'Luna': 1}"
      ]
     },
     "execution_count": 33,
     "metadata": {},
     "output_type": "execute_result"
    }
   ],
   "source": [
    "example_list = [\"Harry\", 'Hermione','Harry','Ron','Dobby','Draco','Luna','Harry','Hermione','Ron','Ron','Ron']\n",
    "\n",
    "\n",
    "def list_counter(alist):\n",
    "    counter_dict = {}\n",
    "    \n",
    "    for name_key in alist:\n",
    "        if name_key in counter_dict:\n",
    "            print(f'name_key {name_key} is in counter_dict: {counter_dict}')\n",
    "            counter_dict[name_key] += 1\n",
    "        else:\n",
    "            print(f'name_key {name_key} is not in counter_dict: {counter_dict}')\n",
    "            counter_dict[name_key] = 1\n",
    "    \n",
    "    return counter_dict\n",
    "\n",
    "list_counter(example_list)\n",
    "\n",
    "# def count_list(clist):\n",
    "#     count_dict = {}\n",
    "#     for count in count_dict[ += 1]: \n",
    "#         else \n",
    "\n",
    "\n",
    "\n",
    "\n",
    "\n",
    "# output = {\n",
    "#     \"Harry\":3,\n",
    "#     \"Hermione\":2,\n",
    "#     \"Ron\":4,\n",
    "#     \"Dobby\":1,\n",
    "#     \"Draco\":1,\n",
    "#     \"Luna\": 1\n",
    "# }\n"
   ]
  },
  {
   "cell_type": "markdown",
   "metadata": {},
   "source": [
    "\n",
    "\n",
    "## Scope <br>\n",
    "<p>Scope refers to the ability to access variables, different types of scope include:<br>a) Global<br>b) Function (local)<br>c) Class (local)</p>"
   ]
  },
  {
   "cell_type": "code",
   "execution_count": null,
   "metadata": {},
   "outputs": [
    {
     "name": "stdout",
     "output_type": "stream",
     "text": [
      "6\n"
     ]
    }
   ],
   "source": [
    "# placement of variable declaration matters\n",
    "\n",
    "number = 3 # Gloal Variable\n",
    "\n",
    "def myFunc():\n",
    "    num_3 = 6 # Local Function Variable\n",
    "    return num_3\n",
    "\n",
    "# print(num_3)\n",
    "# print(number)\n",
    "return_num = myFunc()\n",
    "print(return_num)"
   ]
  },
  {
   "cell_type": "markdown",
   "metadata": {},
   "source": [
    "# Homework Exercises"
   ]
  },
  {
   "cell_type": "markdown",
   "metadata": {},
   "source": [
    "## Exercise 1 <br>\n",
    "<p>Create a function that returns the sum of the two lowest positive numbers given an array of minimum 4 positive integers. No floats or non-positive integers will be passed.\n",
    "<p>"
   ]
  },
  {
   "cell_type": "code",
   "execution_count": null,
   "metadata": {},
   "outputs": [],
   "source": [
    "example = [19, 5, 42, 2, 77]\n",
    "#output = 7\n",
    "\n",
    "\n"
   ]
  },
  {
   "cell_type": "markdown",
   "metadata": {},
   "source": [
    "## Exercise 2 <br>\n",
    "<p>Given an array of integers.<br>\n",
    "\n",
    "Return an array, where the first element is the count of positives numbers and the second element is sum of negative numbers. 0 is neither positive nor negative.<br>\n",
    "\n",
    "If the input array is empty or null, return an empty array.<br>\n",
    "</p>"
   ]
  },
  {
   "cell_type": "code",
   "execution_count": null,
   "metadata": {},
   "outputs": [],
   "source": [
    "example_input = [1, 2, 3, 4, 5, 6, 7, 8, 9, 10, -11, -12, -13, -14, -15]\n",
    "# output  = [10,-65] \n",
    "\n"
   ]
  }
 ],
 "metadata": {
  "interpreter": {
   "hash": "e7370f93d1d0cde622a1f8e1c04877d8463912d04d973331ad4851f04de6915a"
  },
  "kernelspec": {
   "display_name": "Python 3.9.9 64-bit",
   "language": "python",
   "name": "python3"
  },
  "language_info": {
   "codemirror_mode": {
    "name": "ipython",
    "version": 3
   },
   "file_extension": ".py",
   "mimetype": "text/x-python",
   "name": "python",
   "nbconvert_exporter": "python",
   "pygments_lexer": "ipython3",
   "version": "3.9.9"
  }
 },
 "nbformat": 4,
 "nbformat_minor": 2
}
